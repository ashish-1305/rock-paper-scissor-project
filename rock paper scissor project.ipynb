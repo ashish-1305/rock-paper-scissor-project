{
 "cells": [
  {
   "cell_type": "code",
   "execution_count": 21,
   "metadata": {},
   "outputs": [],
   "source": [
    "def takePlayerInput():\n",
    "    player=\"blank\"\n",
    "    while not (player.lower() ==\"r\" or player.lower() == \"p\" or player.lower() == \"s\"):\n",
    "        player=input(\"Please Enter your input out of - R | P | S = \")\n",
    "    return player.lower()\n",
    "    "
   ]
  },
  {
   "cell_type": "code",
   "execution_count": 2,
   "metadata": {},
   "outputs": [
    {
     "name": "stdout",
     "output_type": "stream",
     "text": [
      "Please Enter your input out of - R | P | S s\n"
     ]
    },
    {
     "data": {
      "text/plain": [
       "'s'"
      ]
     },
     "execution_count": 2,
     "metadata": {},
     "output_type": "execute_result"
    }
   ],
   "source": [
    "takePlayerInput()"
   ]
  },
  {
   "cell_type": "code",
   "execution_count": 4,
   "metadata": {},
   "outputs": [],
   "source": [
    "import random\n",
    "def getBotInput():\n",
    "    lst = ['r','s','p']\n",
    "    return random.choice(lst)"
   ]
  },
  {
   "cell_type": "code",
   "execution_count": 7,
   "metadata": {},
   "outputs": [
    {
     "data": {
      "text/plain": [
       "'s'"
      ]
     },
     "execution_count": 7,
     "metadata": {},
     "output_type": "execute_result"
    }
   ],
   "source": [
    "getBotInput()"
   ]
  },
  {
   "cell_type": "code",
   "execution_count": 8,
   "metadata": {},
   "outputs": [],
   "source": [
    "def checkWinner(player,bot):\n",
    "    if player == 'r' and bot == \"r\":\n",
    "        return \"Draw\"\n",
    "    elif player == 'r' and bot == \"p\":\n",
    "        return \"bot\"\n",
    "    elif player == 'r' and bot == \"s\":\n",
    "        return \"player\"\n",
    "    elif player == 'r' and bot == \"s\":\n",
    "        return \"player\"\n",
    "    elif player == 'p' and bot == \"s\":\n",
    "        return \"bot\"\n",
    "    elif player == 'p' and bot == \"r\":\n",
    "        return \"player\"\n",
    "    elif player == 'p' and bot == \"p\":\n",
    "        return \"Draw\"\n",
    "    elif player == 's' and bot == \"s\":\n",
    "        return \"Draw\"\n",
    "    elif player == 's' and bot == \"p\":\n",
    "        return \"player\"\n",
    "    elif player == 's' and bot == \"r\":\n",
    "        return \"bot\"\n",
    "    else:\n",
    "        return 'Draw'"
   ]
  },
  {
   "cell_type": "code",
   "execution_count": 9,
   "metadata": {},
   "outputs": [
    {
     "data": {
      "text/plain": [
       "'player'"
      ]
     },
     "execution_count": 9,
     "metadata": {},
     "output_type": "execute_result"
    }
   ],
   "source": [
    "checkWinner(\"s\",\"p\")"
   ]
  },
  {
   "cell_type": "code",
   "execution_count": 24,
   "metadata": {},
   "outputs": [],
   "source": [
    "def rockPaperScissor():\n",
    "    endTheGame = \"n\"\n",
    "    player_score = 0\n",
    "    bot_score = 0\n",
    "    while endTheGame.lower != \"y\":\n",
    "        ply = takePlayerInput()\n",
    "        bt = getBotInput()\n",
    "        print('bot enterted-', bt)\n",
    "        winner = checkWinner(player = ply, bot = bt)\n",
    "        print(\"Winner is - \", winner)\n",
    "        if winner== \"player\":\n",
    "            player_score +=2\n",
    "        elif winner ==\"bot\":\n",
    "            bot_score +=2\n",
    "        else:\n",
    "            player_score += 1\n",
    "            bot_score += 1\n",
    "        \n",
    "        print(\"--Score board--\")\n",
    "        print(\"--PLAYER--\",player_score)\n",
    "        print(\"--Bot--\",bot_score)\n",
    "        print(\" \")\n",
    "        endTheGame = input(\"You want to end  y/n- \")"
   ]
  },
  {
   "cell_type": "code",
   "execution_count": null,
   "metadata": {},
   "outputs": [
    {
     "name": "stdout",
     "output_type": "stream",
     "text": [
      "Please Enter your input out of - R | P | S = r\n",
      "bot enterted- r\n",
      "Winner is -  Draw\n",
      "--Score board--\n",
      "--PLAYER-- 1\n",
      "--Bot-- 1\n",
      " \n",
      "You want to end  y/n- y\n",
      "Please Enter your input out of - R | P | S = r\n",
      "bot enterted- p\n",
      "Winner is -  bot\n",
      "--Score board--\n",
      "--PLAYER-- 1\n",
      "--Bot-- 3\n",
      " \n",
      "You want to end  y/n- s\n",
      "Please Enter your input out of - R | P | S = s\n",
      "bot enterted- s\n",
      "Winner is -  Draw\n",
      "--Score board--\n",
      "--PLAYER-- 2\n",
      "--Bot-- 4\n",
      " \n",
      "You want to end  y/n- p\n",
      "Please Enter your input out of - R | P | S = p\n",
      "bot enterted- p\n",
      "Winner is -  Draw\n",
      "--Score board--\n",
      "--PLAYER-- 3\n",
      "--Bot-- 5\n",
      " \n",
      "You want to end  y/n- p\n",
      "Please Enter your input out of - R | P | S = p\n",
      "bot enterted- s\n",
      "Winner is -  bot\n",
      "--Score board--\n",
      "--PLAYER-- 3\n",
      "--Bot-- 7\n",
      " \n",
      "You want to end  y/n- y\n",
      "Please Enter your input out of - R | P | S = p\n",
      "bot enterted- p\n",
      "Winner is -  Draw\n",
      "--Score board--\n",
      "--PLAYER-- 4\n",
      "--Bot-- 8\n",
      " \n",
      "You want to end  y/n- y\n",
      "Please Enter your input out of - R | P | S = s\n",
      "bot enterted- s\n",
      "Winner is -  Draw\n",
      "--Score board--\n",
      "--PLAYER-- 5\n",
      "--Bot-- 9\n",
      " \n",
      "You want to end  y/n- y\n",
      "Please Enter your input out of - R | P | S = r\n",
      "bot enterted- s\n",
      "Winner is -  player\n",
      "--Score board--\n",
      "--PLAYER-- 7\n",
      "--Bot-- 9\n",
      " \n",
      "You want to end  y/n- n\n"
     ]
    }
   ],
   "source": [
    "rockPaperScissor()"
   ]
  },
  {
   "cell_type": "code",
   "execution_count": null,
   "metadata": {},
   "outputs": [],
   "source": []
  }
 ],
 "metadata": {
  "kernelspec": {
   "display_name": "Python 3",
   "language": "python",
   "name": "python3"
  },
  "language_info": {
   "codemirror_mode": {
    "name": "ipython",
    "version": 3
   },
   "file_extension": ".py",
   "mimetype": "text/x-python",
   "name": "python",
   "nbconvert_exporter": "python",
   "pygments_lexer": "ipython3",
   "version": "3.7.6"
  }
 },
 "nbformat": 4,
 "nbformat_minor": 4
}
